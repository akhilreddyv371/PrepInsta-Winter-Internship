{
 "cells": [
  {
   "cell_type": "code",
   "execution_count": 9,
   "metadata": {},
   "outputs": [],
   "source": [
    "def display_frog(frogs):\n",
    "    # print(\"[0, 1, 2, 3, 4, 5, 6]\")\n",
    "    print(frogs)"
   ]
  },
  {
   "cell_type": "code",
   "execution_count": 10,
   "metadata": {},
   "outputs": [],
   "source": [
    "def validate_move(position, frogs):\n",
    "    if position == \"q\" or position == \"Q\":\n",
    "        return True, False\n",
    "\n",
    "    position = int(position)\n",
    "\n",
    "    if frogs[position] == \"-\":\n",
    "        print(\"Invalid Move Cannot choose the leaf position\")\n",
    "        return False, True\n",
    "\n",
    "    if frogs[position] == 'B':\n",
    "        if frogs[position + 1] != \"-\" and frogs[position + 2] != \"-\":\n",
    "            print(\"Invlaid Movie for forg B\")\n",
    "            return False, True\n",
    "\n",
    "    else:\n",
    "        if frogs[position - 1] != \"-\" and frogs[position - 2] != \"-\":\n",
    "            print(\"Invlaid Movie for frog G\")\n",
    "            return False, True\n",
    "\n",
    "    return True, True"
   ]
  },
  {
   "cell_type": "code",
   "execution_count": 11,
   "metadata": {},
   "outputs": [],
   "source": [
    "def make_move(position, frogs):\n",
    "    if frogs[position] == \"B\":\n",
    "        if frogs[position + 1] == \"-\":\n",
    "            frogs[position], frogs[position + 1] = frogs[position + 1], frogs[position]\n",
    "        elif frogs[position + 2] == \"-\":\n",
    "            frogs[position], frogs[position + 2] = frogs[position + 2], frogs[position]\n",
    "    else:\n",
    "        if frogs[position - 1] == \"-\":\n",
    "            frogs[position], frogs[position - 1] = frogs[position - 1], frogs[position]\n",
    "        elif frogs[position - 2] == \"-\":\n",
    "            frogs[position], frogs[position - 2] = frogs[position - 2], frogs[position]\n"
   ]
  },
  {
   "cell_type": "code",
   "execution_count": 12,
   "metadata": {},
   "outputs": [],
   "source": [
    "def puzzle_sloved(frogs, copy_frogs):\n",
    "    if frogs[0:3] == copy_frogs[4:7] and frogs[4:7] == copy_frogs[0:3]:\n",
    "        return True"
   ]
  },
  {
   "cell_type": "code",
   "execution_count": 13,
   "metadata": {},
   "outputs": [],
   "source": [
    "def game_over(frogs):\n",
    "    leaf_index = frogs.index(\"-\")\n",
    "    count = 0\n",
    "\n",
    "    if leaf_index >= 0 and leaf_index < 3:\n",
    "        for i in range(leaf_index + 1, len(frogs)):\n",
    "          if frogs[i] == \"G\":\n",
    "            if frogs[i - 1] == \"-\" or frogs[i - 2] == \"-\":\n",
    "              return False\n",
    "            else:\n",
    "              count += 1\n",
    "    else:\n",
    "        for i in range(leaf_index):\n",
    "          if frogs[i] == \"B\":\n",
    "            if frogs[i + 1] == \"-\" or frogs[i + 2] == \"-\":\n",
    "              return False\n",
    "            else:\n",
    "              count += 1\n",
    "              continue\n",
    "    if count >= 1:\n",
    "        return True"
   ]
  },
  {
   "cell_type": "code",
   "execution_count": null,
   "metadata": {},
   "outputs": [
    {
     "ename": "",
     "evalue": "",
     "output_type": "error",
     "traceback": [
      "\u001b[1;31mFailed to start the Kernel. \n",
      "\u001b[1;31mEPERM: operation not permitted, scandir '/Users/akhilreddyv/Desktop/Prepinsta Winter Internship/Week 2'. \n",
      "\u001b[1;31mView Jupyter <a href='command:jupyter.viewOutput'>log</a> for further details."
     ]
    }
   ],
   "source": [
    "def main():\n",
    "    count = 0\n",
    "    frogs = [\"B\", \"B\", \"B\", \"-\", \"G\", \"G\", \"G\"]\n",
    "    copy_frogs = frogs.copy()\n",
    "    while True:\n",
    "        display_frog(copy_frogs)\n",
    "        position = input(\"Enter number between 0 and 6 or q to quit the game : \")\n",
    "        valid_input, continue_game = validate_move(position, copy_frogs)\n",
    "        count += 1\n",
    "\n",
    "        if not continue_game:\n",
    "            print(\"Quiting the game\")\n",
    "            break\n",
    "\n",
    "        if valid_input:\n",
    "            position = int(position)\n",
    "            # print(\"valid Movie\")\n",
    "            make_move(position, copy_frogs)\n",
    "\n",
    "            if puzzle_sloved(frogs, copy_frogs):\n",
    "                print(\"You have sloved the puzzle\")\n",
    "                display_frog(copy_frogs)\n",
    "                break\n",
    "            if count >= 3:\n",
    "                if game_over(copy_frogs):\n",
    "                    display_frog(copy_frogs)\n",
    "                    print(\"You Stuck! Game Over\");\n",
    "                    break\n",
    "\n",
    "main()"
   ]
  }
 ],
 "metadata": {
  "kernelspec": {
   "display_name": "Python 3",
   "language": "python",
   "name": "python3"
  },
  "language_info": {
   "codemirror_mode": {
    "name": "ipython",
    "version": 3
   },
   "file_extension": ".py",
   "mimetype": "text/x-python",
   "name": "python",
   "nbconvert_exporter": "python",
   "pygments_lexer": "ipython3",
   "version": "3.11.1 (v3.11.1:a7a450f84a, Dec  6 2022, 15:24:06) [Clang 13.0.0 (clang-1300.0.29.30)]"
  },
  "orig_nbformat": 4,
  "vscode": {
   "interpreter": {
    "hash": "aee8b7b246df8f9039afb4144a1f6fd8d2ca17a180786b69acc140d282b71a49"
   }
  }
 },
 "nbformat": 4,
 "nbformat_minor": 2
}
