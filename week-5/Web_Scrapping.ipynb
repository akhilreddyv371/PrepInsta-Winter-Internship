{
  "nbformat": 4,
  "nbformat_minor": 0,
  "metadata": {
    "colab": {
      "provenance": []
    },
    "kernelspec": {
      "name": "python3",
      "display_name": "Python 3"
    },
    "language_info": {
      "name": "python"
    }
  },
  "cells": [
    {
      "cell_type": "code",
      "execution_count": 168,
      "metadata": {
        "id": "Wjwlk8lYi12U"
      },
      "outputs": [],
      "source": [
        "import pandas as pd\n",
        "import requests\n",
        "import bs4"
      ]
    },
    {
      "cell_type": "code",
      "source": [
        "base_url = \"http://books.toscrape.com/catalogue/category/books_1/page-{}.html\"\n",
        "base_book_link = \"http://books.toscrape.com/catalogue/{}\"\n",
        "rating = [\"One\", \"Two\", \"Three\", \"Four\", \"Five\"]"
      ],
      "metadata": {
        "id": "Gsy8giNGkCO7"
      },
      "execution_count": 82,
      "outputs": []
    },
    {
      "cell_type": "code",
      "source": [
        "ratings = ['One', 'Two', 'Three', 'Four', 'Five']"
      ],
      "metadata": {
        "id": "6qTLXVIhmEc6"
      },
      "execution_count": 134,
      "outputs": []
    },
    {
      "cell_type": "code",
      "source": [
        "res = requests.get(base_url.format(1))\n",
        "soup = bs4.BeautifulSoup(res.text, 'lxml')\n",
        "products = soup.select(\".product_pod\")\n",
        "# product[:1]\n",
        "products[0]"
      ],
      "metadata": {
        "colab": {
          "base_uri": "https://localhost:8080/"
        },
        "id": "wisAOrAPktQi",
        "outputId": "40d06b3f-0f7a-4570-f3cc-ab245a96477e"
      },
      "execution_count": 158,
      "outputs": [
        {
          "output_type": "execute_result",
          "data": {
            "text/plain": [
              "<article class=\"product_pod\">\n",
              "<div class=\"image_container\">\n",
              "<a href=\"../../a-light-in-the-attic_1000/index.html\"><img alt=\"A Light in the Attic\" class=\"thumbnail\" src=\"../../../media/cache/2c/da/2cdad67c44b002e7ead0cc35693c0e8b.jpg\"/></a>\n",
              "</div>\n",
              "<p class=\"star-rating Three\">\n",
              "<i class=\"icon-star\"></i>\n",
              "<i class=\"icon-star\"></i>\n",
              "<i class=\"icon-star\"></i>\n",
              "<i class=\"icon-star\"></i>\n",
              "<i class=\"icon-star\"></i>\n",
              "</p>\n",
              "<h3><a href=\"../../a-light-in-the-attic_1000/index.html\" title=\"A Light in the Attic\">A Light in the ...</a></h3>\n",
              "<div class=\"product_price\">\n",
              "<p class=\"price_color\">Â£51.77</p>\n",
              "<p class=\"instock availability\">\n",
              "<i class=\"icon-ok\"></i>\n",
              "    \n",
              "        In stock\n",
              "    \n",
              "</p>\n",
              "<form>\n",
              "<button class=\"btn btn-primary btn-block\" data-loading-text=\"Adding...\" type=\"submit\">Add to basket</button>\n",
              "</form>\n",
              "</div>\n",
              "</article>"
            ]
          },
          "metadata": {},
          "execution_count": 158
        }
      ]
    },
    {
      "cell_type": "code",
      "source": [
        "# title code\n",
        "example = products[2]\n",
        "title = example.select(\"a\")[1][\"title\"]\n",
        "title"
      ],
      "metadata": {
        "colab": {
          "base_uri": "https://localhost:8080/",
          "height": 35
        },
        "id": "sT5WM27Nofc6",
        "outputId": "e278d2c0-0ca0-408f-8c35-4ae92219ad2c"
      },
      "execution_count": 121,
      "outputs": [
        {
          "output_type": "execute_result",
          "data": {
            "text/plain": [
              "'Soumission'"
            ],
            "application/vnd.google.colaboratory.intrinsic+json": {
              "type": "string"
            }
          },
          "metadata": {},
          "execution_count": 121
        }
      ]
    },
    {
      "cell_type": "code",
      "source": [
        "# link to book\n",
        "url = products[0]\n",
        "res = base_book_link.format(url.select(\"a\")[1][\"href\"].replace(\"../../\", ''))\n",
        "res"
      ],
      "metadata": {
        "colab": {
          "base_uri": "https://localhost:8080/",
          "height": 35
        },
        "id": "9MsjzraxqE-D",
        "outputId": "a39ce8de-d6cc-4d17-f092-36f5e9ff51ba"
      },
      "execution_count": 143,
      "outputs": [
        {
          "output_type": "execute_result",
          "data": {
            "text/plain": [
              "'http://books.toscrape.com/catalogue/a-light-in-the-attic_1000/index.html'"
            ],
            "application/vnd.google.colaboratory.intrinsic+json": {
              "type": "string"
            }
          },
          "metadata": {},
          "execution_count": 143
        }
      ]
    },
    {
      "cell_type": "code",
      "source": [
        "# code for price\n",
        "example4 = products[0]\n",
        "price_element = example4.select(\"p\")[1].text.strip().replace('Â', '')\n",
        "print(\"Price:\", price_element)"
      ],
      "metadata": {
        "colab": {
          "base_uri": "https://localhost:8080/"
        },
        "id": "t9-54_X3uMYv",
        "outputId": "56b651bb-dd69-430e-8f90-ea7f4be4836e"
      },
      "execution_count": 192,
      "outputs": [
        {
          "output_type": "stream",
          "name": "stdout",
          "text": [
            "Price: £38.00\n"
          ]
        }
      ]
    },
    {
      "cell_type": "code",
      "source": [
        "# code for rating\n",
        "example5 = products[0]\n",
        "rating = example5.select(\".star-rating.Three\")\n",
        "rating"
      ],
      "metadata": {
        "colab": {
          "base_uri": "https://localhost:8080/"
        },
        "id": "UgBdqO-d0mrx",
        "outputId": "0b4daedd-d17a-4180-fb86-bd4e8aed2e83"
      },
      "execution_count": 151,
      "outputs": [
        {
          "output_type": "execute_result",
          "data": {
            "text/plain": [
              "[<p class=\"star-rating Three\">\n",
              " <i class=\"icon-star\"></i>\n",
              " <i class=\"icon-star\"></i>\n",
              " <i class=\"icon-star\"></i>\n",
              " <i class=\"icon-star\"></i>\n",
              " <i class=\"icon-star\"></i>\n",
              " </p>]"
            ]
          },
          "metadata": {},
          "execution_count": 151
        }
      ]
    },
    {
      "cell_type": "code",
      "source": [
        "book_data = []"
      ],
      "metadata": {
        "id": "0Pa7wVtm9Bdi"
      },
      "execution_count": 195,
      "outputs": []
    },
    {
      "cell_type": "code",
      "source": [
        "count = 1\n",
        "for i in range(1, 51):\n",
        "  url = base_url.format(i)\n",
        "  result = requests.get(url)\n",
        "  soup = bs4.BeautifulSoup(result.text, 'lxml')\n",
        "  products = soup.select(\".product_pod\")\n",
        "  for product in products:\n",
        "      title = product.select(\"a\")[1]['title']\n",
        "      price = product.select(\"p\")[1].text.strip().replace('Â', '')\n",
        "      book_url = base_book_link.format(product.select(\"a\")[1][\"href\"].replace(\"../../\", ''))\n",
        "      rate = 0\n",
        "      for rating in ratings:\n",
        "        if len(product.select(\".star-rating.{}\".format(rating))):\n",
        "          rate = rating\n",
        "          break\n",
        "\n",
        "      book_data.append({'Serial Number':count,'title' : title, 'rating' : rate, 'price' : price, 'link':book_url})\n",
        "      count += 1\n",
        ""
      ],
      "metadata": {
        "id": "UUJfBXaezAVj"
      },
      "execution_count": 196,
      "outputs": []
    },
    {
      "cell_type": "code",
      "source": [
        "df = pd.DataFrame(book_data)\n",
        "df.shape"
      ],
      "metadata": {
        "colab": {
          "base_uri": "https://localhost:8080/"
        },
        "id": "iu-Pz5Ws973u",
        "outputId": "3e94c63b-5d62-4a68-8991-344e70f4c47f"
      },
      "execution_count": 197,
      "outputs": [
        {
          "output_type": "execute_result",
          "data": {
            "text/plain": [
              "(1000, 5)"
            ]
          },
          "metadata": {},
          "execution_count": 197
        }
      ]
    },
    {
      "cell_type": "code",
      "source": [
        "df.to_csv(\"books_data.csv\", index=False)"
      ],
      "metadata": {
        "id": "_6EmtDhGBBtx"
      },
      "execution_count": 198,
      "outputs": []
    }
  ]
}