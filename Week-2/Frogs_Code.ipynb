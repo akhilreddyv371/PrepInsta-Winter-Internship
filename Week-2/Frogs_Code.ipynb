{
  "cells": [
    {
      "cell_type": "markdown",
      "source": [
        "This display function always prints the forgs positions after every successfull valid move."
      ],
      "metadata": {
        "id": "G4i0fwfmcNHT"
      }
    },
    {
      "cell_type": "code",
      "source": [
        "def display_frog(frogs):\n",
        "    # print(\"[0, 1, 2, 3, 4, 5, 6]\")\n",
        "    print(frogs)"
      ],
      "metadata": {
        "id": "dn6oPmXlXILo"
      },
      "execution_count": null,
      "outputs": []
    },
    {
      "cell_type": "markdown",
      "source": [
        "This 'ValidateMove' function returns two boolean values. The first value indicates whether the input is valid, and the second return value determines whether you want to continue the game or not (don't worry, it returns a false value; You will understand that in the main function).\n",
        "\n",
        "If the user enters a character other than 'Q', we need to convert the string input to an integer since we deal with indexing in the array.\n",
        "\n",
        "First Condtion :\n",
        "\n",
        "We check whether the entered position is a leaf position. If the entered position is a leaf position, it is considered invalid, returning a false value (where false indicates that it is not a valid position for the frog to move). If it's not a leaf position, it's considered a valid position and returns true.\n",
        "\n",
        "Second Condition :\n",
        "\n",
        "Note: The brown frog always moves forward in increasing order of position. Meanwhile, the green frog moves in the decreasing index of the given position:\n",
        "\n",
        "\n",
        "Third Condition :  \n",
        "\n",
        "Check Whether the entered postion contains Green Frog or Brown Frog.\n",
        "\n",
        "If it's a Brown Frog: [\"B\", \"B\", \"B\", \"-\", \"G\", \"G\", \"G\"], as discussed earlier, the Brown frog can only move forward.\n",
        "\n",
        "The Brown Frog can only move if the position + 1 is \"-\" or if Position + 2 is \"-\". In all other cases, the entered position is not a valid move for the Brown Frog.\"\n",
        "\n",
        "Similarly, the Green Frog can only move in the position - 1 direction if position - 1 is \"-\" or if position - 2 is \"-\". If either of these two conditions is true, then it is a valid move for the Green Frog. Otherwise, it is an invalid move for the Green Frog.\n"
      ],
      "metadata": {
        "id": "zYdfJETvckS5"
      }
    },
    {
      "cell_type": "code",
      "source": [
        "def validate_move(position, frogs):\n",
        "    if position == \"q\" or position == \"Q\":\n",
        "        return True, False\n",
        "\n",
        "    position = int(position)\n",
        "\n",
        "    if 0 <= position <= 6:\n",
        "\n",
        "      if frogs[position] == \"-\":\n",
        "          print(\"Invalid Move Cannot choose the leaf position\")\n",
        "          return False, True\n",
        "\n",
        "      if frogs[position] == 'B':\n",
        "          if frogs[position + 1] != \"-\" and frogs[position + 2] != \"-\":\n",
        "              print(\"Invlaid Movie for forg B\")\n",
        "              return False, True\n",
        "\n",
        "      else:\n",
        "          if frogs[position - 1] != \"-\" and frogs[position - 2] != \"-\":\n",
        "              print(\"Invlaid Movie for frog G\")\n",
        "              return False, True\n",
        "\n",
        "    else:\n",
        "      return False, True\n",
        "\n",
        "    return True, True"
      ],
      "metadata": {
        "id": "I_i9kq8GXSqw"
      },
      "execution_count": null,
      "outputs": []
    },
    {
      "cell_type": "markdown",
      "source": [
        "The 'MakeMove' function only executes when the entered position is valid.\n",
        "\n",
        "As discussed earlier, the Brown Frog can only move in the forward direction. If the entered position represents the Brown Frog, we need to check where the leaf node is located. If the entered position + 1 or + 2 corresponds to a leaf index, then we can swap the Brown Frog and the leaf node positions.\n",
        "\n",
        "Similarly, the Green Frog can only move in the backward direction. If the entered position represents the Green Frog and the position - 1 or - 2 is a leaf node position, then we can swap the Green Frog and the leaf node."
      ],
      "metadata": {
        "id": "WBZA4jEJlFuU"
      }
    },
    {
      "cell_type": "code",
      "source": [
        "def make_move(position, frogs):\n",
        "    if frogs[position] == \"B\":\n",
        "        if frogs[position + 1] == \"-\":\n",
        "            frogs[position], frogs[position + 1] = frogs[position + 1], frogs[position]\n",
        "        elif frogs[position + 2] == \"-\":\n",
        "            frogs[position], frogs[position + 2] = frogs[position + 2], frogs[position]\n",
        "    else:\n",
        "        if frogs[position - 1] == \"-\":\n",
        "            frogs[position], frogs[position - 1] = frogs[position - 1], frogs[position]\n",
        "        elif frogs[position - 2] == \"-\":\n",
        "            frogs[position], frogs[position - 2] = frogs[position - 2], frogs[position]\n"
      ],
      "metadata": {
        "id": "fuZ9SPtkXbQx"
      },
      "execution_count": null,
      "outputs": []
    },
    {
      "cell_type": "markdown",
      "source": [
        "The 'PuzzleSolved' function takes two parameters. The first parameter is the original frog array, and the second parameter is a copy of the frog array.\n",
        "\n",
        "The puzzle is considered solved under the following conditions:\n",
        "\n",
        "When 'frogs' = [\"B\", \"B\", \"B\", \"-\", \"G\", \"G\", \"G\"] (initial state)\n",
        "and 'copy_frogs' = [\"G\", \"G\", \"G\", \"-\", \"B\", \"B\", \"B\"] (goal state),\n",
        "\n",
        "if the first 3 positions from the 'frogs' array are equal to the last 3 positions from the 'copy_frogs' array, and the last 3 positions from the 'frogs' array are equal to the first 3 positions from the 'copy_frogs' array, then we have solved the puzzle and can terminate the game"
      ],
      "metadata": {
        "id": "sZNpWlCpne8a"
      }
    },
    {
      "cell_type": "code",
      "source": [
        "def puzzle_sloved(frogs, copy_frogs):\n",
        "    if frogs[0:3] == copy_frogs[4:7] and frogs[4:7] == copy_frogs[0:3]:\n",
        "        return True\n"
      ],
      "metadata": {
        "id": "C7Zdt0mDXgcx"
      },
      "execution_count": null,
      "outputs": []
    },
    {
      "cell_type": "markdown",
      "source": [
        "Note: The game over condition occurs only after two successful moves. After two successful moves, if any frog whose neighbor (meaning n and n + 1 or n and n - 1 having the same color frog) has the same color, the puzzle will never solve.\n",
        "\n",
        "Here, 'Count' represents the occurrence of same-color frog neighbors.\n"
      ],
      "metadata": {
        "id": "YNICrZ24p1a9"
      }
    },
    {
      "cell_type": "code",
      "source": [
        "def game_over(frogs):\n",
        "    leaf_index = frogs.index(\"-\")\n",
        "    count = 0\n",
        "\n",
        "    if leaf_index >= 0 and leaf_index < 3:\n",
        "        for i in range(leaf_index + 1, len(frogs)):\n",
        "          if frogs[i] == \"G\":\n",
        "            if frogs[i - 1] == \"-\" or frogs[i - 2] == \"-\":\n",
        "              return False\n",
        "            else:\n",
        "              count += 1\n",
        "    else:\n",
        "        for i in range(leaf_index):\n",
        "          if frogs[i] == \"B\":\n",
        "            if frogs[i + 1] == \"-\" or frogs[i + 2] == \"-\":\n",
        "              return False\n",
        "            else:\n",
        "              count += 1\n",
        "              continue\n",
        "    if count >= 2:\n",
        "        return True"
      ],
      "metadata": {
        "id": "WkrLbynEXjFB"
      },
      "execution_count": null,
      "outputs": []
    },
    {
      "cell_type": "markdown",
      "source": [
        "Initialization:\n",
        "\n",
        "count = 0: This variable keeps track of the minimum steps for the puzzle to become unsolvable.\n",
        "\n",
        "frogs = [\"B\", \"B\", \"B\", \"-\", \"G\", \"G\", \"G\"]: Initial state of the frogs.\n",
        "copy_frogs = frogs.copy(): A copy of the initial state, which is modified during the game.\n",
        "\n",
        "We modify the copy of the frogs because when we alter the original frogs, we lose track of the initial state and the goal state. So, we use the copy of the frogs, modify it during the game, and compare it with the original frogs to determine whether we've solved the puzzle or not.\n",
        "\n",
        "Game Loop (while True):\n",
        "\n",
        "Displays the current state of the frog positions.\n",
        "Accepts user input for the position to move or 'q' to quit the game.\n",
        "Validates the input and continues the game or quits based on user choice.\n",
        "Checks for a valid input, then makes a move and updates the frog positions accordingly.\n",
        "\n",
        "After at least two moves, checks for a game-over condition. If met, displays a message and ends the game.\n",
        "\n",
        "Checks if the puzzle is solved based on specific conditions. If solved, displays a message and ends the game.\n",
        "Function Calls:\n",
        "\n",
        "validate_move(position, copy_frogs): Validates the user input for a valid move and continues the game if applicable.\n",
        "\n",
        "make_move(position, copy_frogs): Modifies the frog positions based on the user's input.\n",
        "\n",
        "game_over(copy_frogs): Checks if the game is over based on certain conditions.\n",
        "puzzle_solved(frogs, copy_frogs): Checks if the puzzle is solved based on specific conditions.\n",
        "\n",
        "Count Usage:\n",
        "\n",
        "Tracks the number of valid moves made by the user.\n",
        "After at least two moves, it checks if the game is over due to specific conditions.\n",
        "\n",
        "The code continues the game until the user either quits or solves the puzzle or gets stuck due to game-over conditions, and it maintains a count of valid moves.\n",
        "\n",
        "\n",
        "\n",
        "\n",
        "\n",
        "\n"
      ],
      "metadata": {
        "id": "_GcEzV29D5sd"
      }
    },
    {
      "cell_type": "code",
      "source": [
        "def main():\n",
        "    count = 0\n",
        "    frogs = [\"B\", \"B\", \"B\", \"-\", \"G\", \"G\", \"G\"]\n",
        "    copy_frogs = frogs.copy()\n",
        "    while True:\n",
        "        display_frog(copy_frogs)\n",
        "        position = input(\"Enter number between 0 and 6 or q to quit the game : \")\n",
        "        valid_input, continue_game = validate_move(position, copy_frogs)\n",
        "\n",
        "        if not continue_game:\n",
        "            print(\"Quiting the game\")\n",
        "            break\n",
        "\n",
        "        if valid_input:\n",
        "            count += 1\n",
        "            position = int(position)\n",
        "            make_move(position, copy_frogs)\n",
        "\n",
        "            if count >= 2:\n",
        "                if game_over(copy_frogs):\n",
        "                    display_frog(copy_frogs)\n",
        "                    print(\"You Stuck! Game Over\");\n",
        "                    break\n",
        "\n",
        "            if puzzle_sloved(frogs, copy_frogs):\n",
        "                print(\"You have sloved the puzzle\")\n",
        "                display_frog(copy_frogs)\n",
        "                break\n",
        "        else:\n",
        "          print(\"Enterd postion is invalid\")"
      ],
      "metadata": {
        "id": "1ae-gzFlXkk2"
      },
      "execution_count": null,
      "outputs": []
    },
    {
      "cell_type": "code",
      "source": [
        "if __name__ == \"__main__\":\n",
        "    main()\n"
      ],
      "metadata": {
        "colab": {
          "base_uri": "https://localhost:8080/"
        },
        "id": "I5RuGWjRXnm2",
        "outputId": "12cab758-09af-4187-94ef-2d861c089cb1"
      },
      "execution_count": null,
      "outputs": [
        {
          "output_type": "stream",
          "name": "stdout",
          "text": [
            "['B', 'B', 'B', '-', 'G', 'G', 'G']\n",
            "Enter number between 0 and 6 or q to quit the game : 1\n",
            "['B', '-', 'B', 'B', 'G', 'G', 'G']\n",
            "Enter number between 0 and 6 or q to quit the game : 0\n",
            "['-', 'B', 'B', 'B', 'G', 'G', 'G']\n",
            "You Stuck! Game Over\n"
          ]
        }
      ]
    }
  ],
  "metadata": {
    "colab": {
      "provenance": []
    },
    "kernelspec": {
      "display_name": "Python 3",
      "name": "python3"
    }
  },
  "nbformat": 4,
  "nbformat_minor": 0
}